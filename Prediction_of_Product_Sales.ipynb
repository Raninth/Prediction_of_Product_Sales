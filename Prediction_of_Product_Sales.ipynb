{
  "nbformat": 4,
  "nbformat_minor": 0,
  "metadata": {
    "colab": {
      "provenance": [],
      "authorship_tag": "ABX9TyOsFo7ZnwxITJRLZc8ER4tc",
      "include_colab_link": true
    },
    "kernelspec": {
      "name": "python3",
      "display_name": "Python 3"
    },
    "language_info": {
      "name": "python"
    }
  },
  "cells": [
    {
      "cell_type": "markdown",
      "metadata": {
        "id": "view-in-github",
        "colab_type": "text"
      },
      "source": [
        "<a href=\"https://colab.research.google.com/github/Raninth/Prediction_of_Product_Sales/blob/main/Prediction_of_Product_Sales.ipynb\" target=\"_parent\"><img src=\"https://colab.research.google.com/assets/colab-badge.svg\" alt=\"Open In Colab\"/></a>"
      ]
    },
    {
      "cell_type": "markdown",
      "source": [
        "# Project Title: (Prediction of Product Sales).\n",
        "- Author: Ranin Theodory"
      ],
      "metadata": {
        "id": "TEdcLdCxBlAU"
      }
    },
    {
      "cell_type": "markdown",
      "source": [
        "## Project Overview"
      ],
      "metadata": {
        "id": "pCGBI75sCC-s"
      }
    },
    {
      "cell_type": "markdown",
      "source": [
        "## Load and Inspect Data"
      ],
      "metadata": {
        "id": "VHftoBRrCGUH"
      }
    },
    {
      "cell_type": "code",
      "source": [],
      "metadata": {
        "id": "Fuz3pRkyCdGz"
      },
      "execution_count": null,
      "outputs": []
    },
    {
      "cell_type": "markdown",
      "source": [
        "## Clean Data"
      ],
      "metadata": {
        "id": "HG_XVm7jCIJw"
      }
    },
    {
      "cell_type": "code",
      "source": [],
      "metadata": {
        "id": "VMwvKsOqCcaG"
      },
      "execution_count": null,
      "outputs": []
    },
    {
      "cell_type": "markdown",
      "source": [
        "## Exploratory Data Analysis"
      ],
      "metadata": {
        "id": "6aYJltoKCJ_b"
      }
    },
    {
      "cell_type": "code",
      "source": [],
      "metadata": {
        "id": "KDgoo6g4CfJ9"
      },
      "execution_count": null,
      "outputs": []
    },
    {
      "cell_type": "markdown",
      "source": [
        "## Feature Inspection"
      ],
      "metadata": {
        "id": "Xlp2ELm_CMj-"
      }
    },
    {
      "cell_type": "code",
      "source": [],
      "metadata": {
        "id": "MV151y9OCfyh"
      },
      "execution_count": null,
      "outputs": []
    }
  ]
}